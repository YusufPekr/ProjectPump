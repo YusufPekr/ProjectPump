{
 "cells": [
  {
   "cell_type": "code",
   "execution_count": null,
   "metadata": {},
   "outputs": [],
   "source": [
    "# libraries\n",
    "import requests\n",
    "import pandas as pd\n",
    "import datetime\n",
    "\n",
    "# key mateo\n",
    "API_KEY = '' # don't share\n",
    "place_id = 'amsterdam'\n",
    "timezone = 'Europe/Amsterdam'\n",
    "BASE_URL = 'https://www.meteosource.com/api/v1/flexi/time_machine?'"
   ]
  },
  {
   "cell_type": "markdown",
   "metadata": {},
   "source": [
    "Depends on API is used!!"
   ]
  },
  {
   "cell_type": "code",
   "execution_count": 2,
   "metadata": {},
   "outputs": [],
   "source": [
    "def get_data(date):\n",
    "    params = {\n",
    "    'key': API_KEY,\n",
    "    'place_id': place_id,\n",
    "    'timezone' : timezone,\n",
    "    'units' : 'metric',\n",
    "    'date' : date,\n",
    "    }\n",
    "    return requests.get(BASE_URL, params).json()"
   ]
  },
  {
   "cell_type": "code",
   "execution_count": null,
   "metadata": {},
   "outputs": [],
   "source": [
    "# can only make 100 requests per day for this API, hence this function\n",
    "def get_next_X_days(date, X):\n",
    "    next_date = datetime.datetime.strptime(date, '%Y-%m-%d')\n",
    "    increment = datetime.timedelta(days = 1)\n",
    "\n",
    "    data = []\n",
    "    for _ in range(X):\n",
    "        response = get_data(next_date.strftime('%Y-%m-%d'))\n",
    "        data.append(pd.json_normalize(response['data']))\n",
    "        next_date += increment\n",
    "    \n",
    "    return pd.concat(data, ignore_index=True)"
   ]
  },
  {
   "cell_type": "markdown",
   "metadata": {},
   "source": [
    "get historic weather data (forececast weather not included)"
   ]
  },
  {
   "cell_type": "code",
   "execution_count": null,
   "metadata": {},
   "outputs": [],
   "source": [
    "#save data as csv files\n",
    "\n",
    "# data = get_next_X_days('2023-03-01', 100)       # pulled\n",
    "# data.to_csv('weatherdata/datapulls/batch1.csv')\n",
    "# data = get_next_X_days('2023-06-09', 100)       # pulled\n",
    "# data.to_csv('weatherdata/datapulls/batch2.csv')      \n",
    "# data = get_next_X_days('2023-09-17', 100)       # pulled\n",
    "# data.to_csv('weatherdata/datapulls/batch3.csv')   \n",
    "# data = get_next_X_days('2023-12-26', 100)       # pulled\n",
    "# data.to_csv('weatherdata/datapulls/batch4.csv')   \n",
    "# data = get_next_X_days('2024-04-04', 15)        # pulled\n",
    "# data.to_csv('weatherdata/datapulls/batch5.csv')"
   ]
  }
 ],
 "metadata": {
  "kernelspec": {
   "display_name": "Python 3",
   "language": "python",
   "name": "python3"
  },
  "language_info": {
   "codemirror_mode": {
    "name": "ipython",
    "version": 3
   },
   "file_extension": ".py",
   "mimetype": "text/x-python",
   "name": "python",
   "nbconvert_exporter": "python",
   "pygments_lexer": "ipython3",
   "version": "3.12.2"
  }
 },
 "nbformat": 4,
 "nbformat_minor": 2
}
